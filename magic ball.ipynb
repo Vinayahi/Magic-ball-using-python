{
 "cells": [
  {
   "cell_type": "code",
   "execution_count": 1,
   "metadata": {},
   "outputs": [],
   "source": [
    "answers = {1:\" It is certain.\",\n",
    "           2:\"Without a doubt\",\n",
    "           3:\"It is decidedly so.\",\n",
    "           4:\"Yes – definitely.\",\n",
    "           5:\"You may rely on it.\",\n",
    "           6:\"As I see it, yes.\",\n",
    "           7:\"Most likely.\",\n",
    "           8:\"Outlook good.\",\n",
    "           9:\"Yes.\",\n",
    "           10:\"Signs point to yes.\",\n",
    "           11:\"Reply hazy, try again.\",\n",
    "           12:\"Ask again later.\",\n",
    "           13:\"Better not tell you now.\",\n",
    "           14:\"Cannot predict now.\",\n",
    "           15:\"Concentrate and ask again.\",\n",
    "           16:\"Don't count on it.\",\n",
    "           17:\"My reply is no.\",\n",
    "           18:\" My sources say no.\",\n",
    "           19:\"Outlook not so good.\",\n",
    "           20:\"Very doubtful.\"}"
   ]
  },
  {
   "cell_type": "code",
   "execution_count": 2,
   "metadata": {},
   "outputs": [],
   "source": [
    "import random\n",
    "def player_input(): \n",
    "    \n",
    "    return (answers[random.randint(1,20)])\n"
   ]
  },
  {
   "cell_type": "code",
   "execution_count": 3,
   "metadata": {},
   "outputs": [],
   "source": [
    "def play():\n",
    "    input(\" Ask a yes or no question now!\")\n",
    "    print(player_input())\n",
    "    play_again()"
   ]
  },
  {
   "cell_type": "code",
   "execution_count": 4,
   "metadata": {},
   "outputs": [],
   "source": [
    "def play_again():\n",
    "    print(\"Do you wannna ask another question?|Y or N\")\n",
    "    ans = input()\n",
    "    \n",
    "    if ans == 'Y':\n",
    "        input(\"Mmm...what else you want to know ?\")\n",
    "        print(player_input())\n",
    "        play_again()\n",
    "        \n",
    "    elif ans=='N':\n",
    "        print(\"THANKS FOR PLAYING\")\n",
    "        exit()\n",
    "    else:\n",
    "        print(\"Please enter Y or N\")\n",
    "        play_again()\n",
    "    \n",
    "        \n",
    "        \n",
    "        "
   ]
  },
  {
   "cell_type": "code",
   "execution_count": null,
   "metadata": {},
   "outputs": [],
   "source": [
    "print(\"--------------------MAGIC 8- BALL-------------------\\nASK A YES OR NO QUESTION ABOUT THE FUTURE!\")\n",
    "print(\"WELCOME! \\n WHAT IS YOUR NAME?\") \n",
    "name = input()\n",
    "print(\"HELLO \"+name+\" Are you eager to know about your future ?\")\n",
    "play()\n",
    "    \n",
    "   \n",
    "\n",
    "\n",
    "    "
   ]
  },
  {
   "cell_type": "code",
   "execution_count": null,
   "metadata": {},
   "outputs": [],
   "source": [
    "\n"
   ]
  },
  {
   "cell_type": "code",
   "execution_count": null,
   "metadata": {},
   "outputs": [],
   "source": []
  },
  {
   "cell_type": "code",
   "execution_count": null,
   "metadata": {},
   "outputs": [],
   "source": []
  }
 ],
 "metadata": {
  "kernelspec": {
   "display_name": "Python 3 (ipykernel)",
   "language": "python",
   "name": "python3"
  },
  "language_info": {
   "codemirror_mode": {
    "name": "ipython",
    "version": 3
   },
   "file_extension": ".py",
   "mimetype": "text/x-python",
   "name": "python",
   "nbconvert_exporter": "python",
   "pygments_lexer": "ipython3",
   "version": "3.8.2"
  }
 },
 "nbformat": 4,
 "nbformat_minor": 4
}
